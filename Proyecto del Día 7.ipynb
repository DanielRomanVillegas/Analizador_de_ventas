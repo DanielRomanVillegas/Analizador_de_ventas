{
 "cells": [
  {
   "cell_type": "markdown",
   "id": "e9e58d8e",
   "metadata": {},
   "source": [
    "# Analizador de Ventas\n",
    "\n",
    "### Objetivo\n",
    "Crear un programa en Python que analice un conjunto de **datos de ventas de una tienda**. El programa debe realizar varias operaciones de Data Science para proporcionar información valiosa sobre las ventas de la tienda.\n",
    "\n",
    "### Consigna\n",
    "\n",
    "1. **Lectura de Datos**: Crea un DataFrame que contenga los datos provistos en el archivo **Datos_Ventas_Tienda.csv** provisto en esta lección. El archivo incluirá información como *fecha de venta*, *categoría de producto*, *cantidad vendida* y *precio*.\n",
    "2. **Fusión de Datos**: Crea un segundo DataFrame que contenga los datos del archivo **Datos_Ventas_Tienda2.csv** (también provisto en esta lección), y concaténalos para tener un solo dataFrame con toda la información.\n",
    "\n",
    "3. **Tratamiento de Datos**: Utiliza Pandas para manipular estos datos. Deberás realizar tareas como limpieza de datos, filtrado y  transformaciones básicas.\n",
    "4. **Análisis de Ventas**: Realiza análisis para responder preguntas como:\n",
    "- ¿Cuál es el producto más vendido?\n",
    "- ¿Cuál es el mes con más ventas?\n",
    "5. **Datos Agrupados**: Agrupa los datos por categoría de producto y analiza las ventas por categoría.\n",
    "6. **Guardar Resultados**: Al final, guarda el DataFrame completo (incluyendo la columna de meses) en un archivo .csv en tu ordenador."
   ]
  },
  {
   "cell_type": "code",
   "execution_count": 2,
   "id": "7e8cf2d5",
   "metadata": {},
   "outputs": [],
   "source": [
    "import pandas as pd"
   ]
  },
  {
   "cell_type": "markdown",
   "id": "58fd466d",
   "metadata": {},
   "source": [
    "## Lectura y fusión de datos"
   ]
  },
  {
   "cell_type": "code",
   "execution_count": 3,
   "id": "67cdbc0b",
   "metadata": {},
   "outputs": [
    {
     "data": {
      "text/html": [
       "<div>\n",
       "<style scoped>\n",
       "    .dataframe tbody tr th:only-of-type {\n",
       "        vertical-align: middle;\n",
       "    }\n",
       "\n",
       "    .dataframe tbody tr th {\n",
       "        vertical-align: top;\n",
       "    }\n",
       "\n",
       "    .dataframe thead th {\n",
       "        text-align: right;\n",
       "    }\n",
       "</style>\n",
       "<table border=\"1\" class=\"dataframe\">\n",
       "  <thead>\n",
       "    <tr style=\"text-align: right;\">\n",
       "      <th></th>\n",
       "      <th>Fecha</th>\n",
       "      <th>Producto</th>\n",
       "      <th>Cantidad</th>\n",
       "      <th>Precio Unitario</th>\n",
       "      <th>Total Venta</th>\n",
       "    </tr>\n",
       "  </thead>\n",
       "  <tbody>\n",
       "    <tr>\n",
       "      <th>0</th>\n",
       "      <td>1/17/2023</td>\n",
       "      <td>Electrónic</td>\n",
       "      <td>7</td>\n",
       "      <td>200</td>\n",
       "      <td>1400</td>\n",
       "    </tr>\n",
       "    <tr>\n",
       "      <th>1</th>\n",
       "      <td>9/1/2023</td>\n",
       "      <td>Electrónic</td>\n",
       "      <td>8</td>\n",
       "      <td>200</td>\n",
       "      <td>1600</td>\n",
       "    </tr>\n",
       "    <tr>\n",
       "      <th>2</th>\n",
       "      <td>7/29/2023</td>\n",
       "      <td>Juguetes</td>\n",
       "      <td>3</td>\n",
       "      <td>30</td>\n",
       "      <td>90</td>\n",
       "    </tr>\n",
       "    <tr>\n",
       "      <th>3</th>\n",
       "      <td>10/4/2023</td>\n",
       "      <td>Alimentos</td>\n",
       "      <td>4</td>\n",
       "      <td>10</td>\n",
       "      <td>40</td>\n",
       "    </tr>\n",
       "    <tr>\n",
       "      <th>4</th>\n",
       "      <td>2/28/2023</td>\n",
       "      <td>Electrónic</td>\n",
       "      <td>6</td>\n",
       "      <td>200</td>\n",
       "      <td>1200</td>\n",
       "    </tr>\n",
       "    <tr>\n",
       "      <th>...</th>\n",
       "      <td>...</td>\n",
       "      <td>...</td>\n",
       "      <td>...</td>\n",
       "      <td>...</td>\n",
       "      <td>...</td>\n",
       "    </tr>\n",
       "    <tr>\n",
       "      <th>1045</th>\n",
       "      <td>9/11/2023</td>\n",
       "      <td>Juguetes</td>\n",
       "      <td>10</td>\n",
       "      <td>30</td>\n",
       "      <td>300</td>\n",
       "    </tr>\n",
       "    <tr>\n",
       "      <th>1046</th>\n",
       "      <td>1/3/2023</td>\n",
       "      <td>Juguetes</td>\n",
       "      <td>10</td>\n",
       "      <td>30</td>\n",
       "      <td>300</td>\n",
       "    </tr>\n",
       "    <tr>\n",
       "      <th>1047</th>\n",
       "      <td>11/7/2023</td>\n",
       "      <td>Alimentos</td>\n",
       "      <td>3</td>\n",
       "      <td>10</td>\n",
       "      <td>30</td>\n",
       "    </tr>\n",
       "    <tr>\n",
       "      <th>1048</th>\n",
       "      <td>8/20/2023</td>\n",
       "      <td>Electrónic</td>\n",
       "      <td>6</td>\n",
       "      <td>200</td>\n",
       "      <td>1200</td>\n",
       "    </tr>\n",
       "    <tr>\n",
       "      <th>1049</th>\n",
       "      <td>7/21/2023</td>\n",
       "      <td>Juguetes</td>\n",
       "      <td>3</td>\n",
       "      <td>30</td>\n",
       "      <td>90</td>\n",
       "    </tr>\n",
       "  </tbody>\n",
       "</table>\n",
       "<p>1050 rows × 5 columns</p>\n",
       "</div>"
      ],
      "text/plain": [
       "          Fecha    Producto  Cantidad  Precio Unitario  Total Venta\n",
       "0     1/17/2023  Electrónic         7              200         1400\n",
       "1      9/1/2023  Electrónic         8              200         1600\n",
       "2     7/29/2023    Juguetes         3               30           90\n",
       "3     10/4/2023   Alimentos         4               10           40\n",
       "4     2/28/2023  Electrónic         6              200         1200\n",
       "...         ...         ...       ...              ...          ...\n",
       "1045  9/11/2023    Juguetes        10               30          300\n",
       "1046   1/3/2023    Juguetes        10               30          300\n",
       "1047  11/7/2023   Alimentos         3               10           30\n",
       "1048  8/20/2023  Electrónic         6              200         1200\n",
       "1049  7/21/2023    Juguetes         3               30           90\n",
       "\n",
       "[1050 rows x 5 columns]"
      ]
     },
     "execution_count": 3,
     "metadata": {},
     "output_type": "execute_result"
    }
   ],
   "source": [
    "df1 = pd.read_csv(\"Datos_Ventas_Tienda.csv\")\n",
    "df2 = pd.read_csv(\"Datos_Ventas_Tienda2.csv\")\n",
    "\n",
    "df = pd.concat([df1, df2], ignore_index=True)\n",
    "df"
   ]
  },
  {
   "cell_type": "markdown",
   "id": "0230852e",
   "metadata": {},
   "source": [
    "## Tratamiendo de datos\n",
    "**Revisar si hay valores nulos o tipos de datos que no correspondan con su columna**"
   ]
  },
  {
   "cell_type": "code",
   "execution_count": 4,
   "id": "5e73df3a",
   "metadata": {},
   "outputs": [
    {
     "name": "stdout",
     "output_type": "stream",
     "text": [
      "Fecha              0\n",
      "Producto           0\n",
      "Cantidad           0\n",
      "Precio Unitario    0\n",
      "Total Venta        0\n",
      "dtype: int64\n",
      "<class 'str'>\n",
      "<class 'str'>\n",
      "<class 'numpy.int64'>\n",
      "<class 'numpy.int64'>\n",
      "<class 'numpy.int64'>\n",
      "<class 'pandas.core.frame.DataFrame'>\n",
      "RangeIndex: 1050 entries, 0 to 1049\n",
      "Data columns (total 5 columns):\n",
      " #   Column           Non-Null Count  Dtype \n",
      "---  ------           --------------  ----- \n",
      " 0   Fecha            1050 non-null   object\n",
      " 1   Producto         1050 non-null   object\n",
      " 2   Cantidad         1050 non-null   int64 \n",
      " 3   Precio Unitario  1050 non-null   int64 \n",
      " 4   Total Venta      1050 non-null   int64 \n",
      "dtypes: int64(3), object(2)\n",
      "memory usage: 41.1+ KB\n"
     ]
    }
   ],
   "source": [
    "print(df.isnull().sum())\n",
    "print(type(df[\"Fecha\"][0])) #Debe ser un TimeStamp\n",
    "print(type(df[\"Producto\"][0])) #Debe ser un str\n",
    "print(type(df[\"Cantidad\"][0])) #Debe ser un int\n",
    "print(type(df[\"Precio Unitario\"][0])) #Debe ser un int\n",
    "print(type(df[\"Total Venta\"][0])) #Debe ser un int\n",
    "df.info()"
   ]
  },
  {
   "cell_type": "markdown",
   "id": "63188441",
   "metadata": {},
   "source": [
    "**Convertir la columna fecha de str a TimeStamp**"
   ]
  },
  {
   "cell_type": "code",
   "execution_count": 5,
   "id": "5aae7f8f",
   "metadata": {},
   "outputs": [
    {
     "data": {
      "text/html": [
       "<div>\n",
       "<style scoped>\n",
       "    .dataframe tbody tr th:only-of-type {\n",
       "        vertical-align: middle;\n",
       "    }\n",
       "\n",
       "    .dataframe tbody tr th {\n",
       "        vertical-align: top;\n",
       "    }\n",
       "\n",
       "    .dataframe thead th {\n",
       "        text-align: right;\n",
       "    }\n",
       "</style>\n",
       "<table border=\"1\" class=\"dataframe\">\n",
       "  <thead>\n",
       "    <tr style=\"text-align: right;\">\n",
       "      <th></th>\n",
       "      <th>Fecha</th>\n",
       "      <th>Producto</th>\n",
       "      <th>Cantidad</th>\n",
       "      <th>Precio Unitario</th>\n",
       "      <th>Total Venta</th>\n",
       "    </tr>\n",
       "  </thead>\n",
       "  <tbody>\n",
       "    <tr>\n",
       "      <th>0</th>\n",
       "      <td>2023-01-17</td>\n",
       "      <td>Electrónic</td>\n",
       "      <td>7</td>\n",
       "      <td>200</td>\n",
       "      <td>1400</td>\n",
       "    </tr>\n",
       "    <tr>\n",
       "      <th>1</th>\n",
       "      <td>2023-09-01</td>\n",
       "      <td>Electrónic</td>\n",
       "      <td>8</td>\n",
       "      <td>200</td>\n",
       "      <td>1600</td>\n",
       "    </tr>\n",
       "    <tr>\n",
       "      <th>2</th>\n",
       "      <td>2023-07-29</td>\n",
       "      <td>Juguetes</td>\n",
       "      <td>3</td>\n",
       "      <td>30</td>\n",
       "      <td>90</td>\n",
       "    </tr>\n",
       "    <tr>\n",
       "      <th>3</th>\n",
       "      <td>2023-10-04</td>\n",
       "      <td>Alimentos</td>\n",
       "      <td>4</td>\n",
       "      <td>10</td>\n",
       "      <td>40</td>\n",
       "    </tr>\n",
       "    <tr>\n",
       "      <th>4</th>\n",
       "      <td>2023-02-28</td>\n",
       "      <td>Electrónic</td>\n",
       "      <td>6</td>\n",
       "      <td>200</td>\n",
       "      <td>1200</td>\n",
       "    </tr>\n",
       "    <tr>\n",
       "      <th>...</th>\n",
       "      <td>...</td>\n",
       "      <td>...</td>\n",
       "      <td>...</td>\n",
       "      <td>...</td>\n",
       "      <td>...</td>\n",
       "    </tr>\n",
       "    <tr>\n",
       "      <th>1045</th>\n",
       "      <td>2023-09-11</td>\n",
       "      <td>Juguetes</td>\n",
       "      <td>10</td>\n",
       "      <td>30</td>\n",
       "      <td>300</td>\n",
       "    </tr>\n",
       "    <tr>\n",
       "      <th>1046</th>\n",
       "      <td>2023-01-03</td>\n",
       "      <td>Juguetes</td>\n",
       "      <td>10</td>\n",
       "      <td>30</td>\n",
       "      <td>300</td>\n",
       "    </tr>\n",
       "    <tr>\n",
       "      <th>1047</th>\n",
       "      <td>2023-11-07</td>\n",
       "      <td>Alimentos</td>\n",
       "      <td>3</td>\n",
       "      <td>10</td>\n",
       "      <td>30</td>\n",
       "    </tr>\n",
       "    <tr>\n",
       "      <th>1048</th>\n",
       "      <td>2023-08-20</td>\n",
       "      <td>Electrónic</td>\n",
       "      <td>6</td>\n",
       "      <td>200</td>\n",
       "      <td>1200</td>\n",
       "    </tr>\n",
       "    <tr>\n",
       "      <th>1049</th>\n",
       "      <td>2023-07-21</td>\n",
       "      <td>Juguetes</td>\n",
       "      <td>3</td>\n",
       "      <td>30</td>\n",
       "      <td>90</td>\n",
       "    </tr>\n",
       "  </tbody>\n",
       "</table>\n",
       "<p>1050 rows × 5 columns</p>\n",
       "</div>"
      ],
      "text/plain": [
       "          Fecha    Producto  Cantidad  Precio Unitario  Total Venta\n",
       "0    2023-01-17  Electrónic         7              200         1400\n",
       "1    2023-09-01  Electrónic         8              200         1600\n",
       "2    2023-07-29    Juguetes         3               30           90\n",
       "3    2023-10-04   Alimentos         4               10           40\n",
       "4    2023-02-28  Electrónic         6              200         1200\n",
       "...         ...         ...       ...              ...          ...\n",
       "1045 2023-09-11    Juguetes        10               30          300\n",
       "1046 2023-01-03    Juguetes        10               30          300\n",
       "1047 2023-11-07   Alimentos         3               10           30\n",
       "1048 2023-08-20  Electrónic         6              200         1200\n",
       "1049 2023-07-21    Juguetes         3               30           90\n",
       "\n",
       "[1050 rows x 5 columns]"
      ]
     },
     "execution_count": 5,
     "metadata": {},
     "output_type": "execute_result"
    }
   ],
   "source": [
    "df[\"Fecha\"] = pd.to_datetime(df[\"Fecha\"])\n",
    "df"
   ]
  },
  {
   "cell_type": "markdown",
   "id": "bdc187bd",
   "metadata": {},
   "source": [
    "**Reemplazar valores en la columna de \"Producto\" mal escrito**"
   ]
  },
  {
   "cell_type": "code",
   "execution_count": 6,
   "id": "3a0b4b32",
   "metadata": {},
   "outputs": [
    {
     "data": {
      "text/html": [
       "<div>\n",
       "<style scoped>\n",
       "    .dataframe tbody tr th:only-of-type {\n",
       "        vertical-align: middle;\n",
       "    }\n",
       "\n",
       "    .dataframe tbody tr th {\n",
       "        vertical-align: top;\n",
       "    }\n",
       "\n",
       "    .dataframe thead th {\n",
       "        text-align: right;\n",
       "    }\n",
       "</style>\n",
       "<table border=\"1\" class=\"dataframe\">\n",
       "  <thead>\n",
       "    <tr style=\"text-align: right;\">\n",
       "      <th></th>\n",
       "      <th>Fecha</th>\n",
       "      <th>Producto</th>\n",
       "      <th>Cantidad</th>\n",
       "      <th>Precio Unitario</th>\n",
       "      <th>Total Venta</th>\n",
       "    </tr>\n",
       "  </thead>\n",
       "  <tbody>\n",
       "    <tr>\n",
       "      <th>0</th>\n",
       "      <td>2023-01-17</td>\n",
       "      <td>Electrónicos</td>\n",
       "      <td>7</td>\n",
       "      <td>200</td>\n",
       "      <td>1400</td>\n",
       "    </tr>\n",
       "    <tr>\n",
       "      <th>1</th>\n",
       "      <td>2023-09-01</td>\n",
       "      <td>Electrónicos</td>\n",
       "      <td>8</td>\n",
       "      <td>200</td>\n",
       "      <td>1600</td>\n",
       "    </tr>\n",
       "    <tr>\n",
       "      <th>2</th>\n",
       "      <td>2023-07-29</td>\n",
       "      <td>Juguetes</td>\n",
       "      <td>3</td>\n",
       "      <td>30</td>\n",
       "      <td>90</td>\n",
       "    </tr>\n",
       "    <tr>\n",
       "      <th>3</th>\n",
       "      <td>2023-10-04</td>\n",
       "      <td>Alimentos</td>\n",
       "      <td>4</td>\n",
       "      <td>10</td>\n",
       "      <td>40</td>\n",
       "    </tr>\n",
       "    <tr>\n",
       "      <th>4</th>\n",
       "      <td>2023-02-28</td>\n",
       "      <td>Electrónicos</td>\n",
       "      <td>6</td>\n",
       "      <td>200</td>\n",
       "      <td>1200</td>\n",
       "    </tr>\n",
       "    <tr>\n",
       "      <th>...</th>\n",
       "      <td>...</td>\n",
       "      <td>...</td>\n",
       "      <td>...</td>\n",
       "      <td>...</td>\n",
       "      <td>...</td>\n",
       "    </tr>\n",
       "    <tr>\n",
       "      <th>1045</th>\n",
       "      <td>2023-09-11</td>\n",
       "      <td>Juguetes</td>\n",
       "      <td>10</td>\n",
       "      <td>30</td>\n",
       "      <td>300</td>\n",
       "    </tr>\n",
       "    <tr>\n",
       "      <th>1046</th>\n",
       "      <td>2023-01-03</td>\n",
       "      <td>Juguetes</td>\n",
       "      <td>10</td>\n",
       "      <td>30</td>\n",
       "      <td>300</td>\n",
       "    </tr>\n",
       "    <tr>\n",
       "      <th>1047</th>\n",
       "      <td>2023-11-07</td>\n",
       "      <td>Alimentos</td>\n",
       "      <td>3</td>\n",
       "      <td>10</td>\n",
       "      <td>30</td>\n",
       "    </tr>\n",
       "    <tr>\n",
       "      <th>1048</th>\n",
       "      <td>2023-08-20</td>\n",
       "      <td>Electrónicos</td>\n",
       "      <td>6</td>\n",
       "      <td>200</td>\n",
       "      <td>1200</td>\n",
       "    </tr>\n",
       "    <tr>\n",
       "      <th>1049</th>\n",
       "      <td>2023-07-21</td>\n",
       "      <td>Juguetes</td>\n",
       "      <td>3</td>\n",
       "      <td>30</td>\n",
       "      <td>90</td>\n",
       "    </tr>\n",
       "  </tbody>\n",
       "</table>\n",
       "<p>1050 rows × 5 columns</p>\n",
       "</div>"
      ],
      "text/plain": [
       "          Fecha      Producto  Cantidad  Precio Unitario  Total Venta\n",
       "0    2023-01-17  Electrónicos         7              200         1400\n",
       "1    2023-09-01  Electrónicos         8              200         1600\n",
       "2    2023-07-29      Juguetes         3               30           90\n",
       "3    2023-10-04     Alimentos         4               10           40\n",
       "4    2023-02-28  Electrónicos         6              200         1200\n",
       "...         ...           ...       ...              ...          ...\n",
       "1045 2023-09-11      Juguetes        10               30          300\n",
       "1046 2023-01-03      Juguetes        10               30          300\n",
       "1047 2023-11-07     Alimentos         3               10           30\n",
       "1048 2023-08-20  Electrónicos         6              200         1200\n",
       "1049 2023-07-21      Juguetes         3               30           90\n",
       "\n",
       "[1050 rows x 5 columns]"
      ]
     },
     "execution_count": 6,
     "metadata": {},
     "output_type": "execute_result"
    }
   ],
   "source": [
    "df[\"Producto\"] = df[\"Producto\"].replace(\"Electrónic\",\"Electrónicos\")\n",
    "df"
   ]
  },
  {
   "cell_type": "markdown",
   "id": "7f1f6203",
   "metadata": {},
   "source": [
    "**Revisar si tenemos registros en el DataFrame duplicados**"
   ]
  },
  {
   "cell_type": "code",
   "execution_count": 7,
   "id": "ef8c86e4",
   "metadata": {},
   "outputs": [
    {
     "data": {
      "text/plain": [
       "np.int64(29)"
      ]
     },
     "execution_count": 7,
     "metadata": {},
     "output_type": "execute_result"
    }
   ],
   "source": [
    "df.duplicated().sum()"
   ]
  },
  {
   "cell_type": "markdown",
   "id": "755cef54",
   "metadata": {},
   "source": [
    "**Eliminar los registros duplicados**"
   ]
  },
  {
   "cell_type": "code",
   "execution_count": null,
   "id": "f7736c15",
   "metadata": {},
   "outputs": [
    {
     "data": {
      "text/plain": [
       "np.int64(0)"
      ]
     },
     "execution_count": 8,
     "metadata": {},
     "output_type": "execute_result"
    }
   ],
   "source": [
    "df.drop_duplicates(inplace=True) #Elimina los registros duplicados\n",
    "df.duplicated().sum() #Revisa si los duplicados fueron eliminados, este es verdadero si es valor resultante es 0"
   ]
  },
  {
   "cell_type": "markdown",
   "id": "a3cb4349",
   "metadata": {},
   "source": [
    "## Análisis de ventas"
   ]
  },
  {
   "cell_type": "markdown",
   "id": "e921aa60",
   "metadata": {},
   "source": [
    "**¿Cuál es el producto más vendido?**"
   ]
  },
  {
   "cell_type": "code",
   "execution_count": 9,
   "id": "c375483e",
   "metadata": {},
   "outputs": [
    {
     "data": {
      "text/plain": [
       "Producto\n",
       "Alimentos    1223\n",
       "Name: Cantidad, dtype: int64"
      ]
     },
     "execution_count": 9,
     "metadata": {},
     "output_type": "execute_result"
    }
   ],
   "source": [
    "producto_mas_vendido = df.groupby(\"Producto\")[\"Cantidad\"].sum()\n",
    "producto_mas_vendido = producto_mas_vendido.sort_values(ascending=False).head(1)\n",
    "producto_mas_vendido"
   ]
  },
  {
   "cell_type": "markdown",
   "id": "b5f9e0f2",
   "metadata": {},
   "source": [
    "**¿Cuál es el mes con más ventas?**"
   ]
  },
  {
   "cell_type": "code",
   "execution_count": 10,
   "id": "d14b3db0",
   "metadata": {},
   "outputs": [
    {
     "data": {
      "text/plain": [
       "Mes\n",
       "8    44810\n",
       "Name: Total Venta, dtype: int64"
      ]
     },
     "execution_count": 10,
     "metadata": {},
     "output_type": "execute_result"
    }
   ],
   "source": [
    "meses = []\n",
    "for m in df[\"Fecha\"]:\n",
    "    meses.append(m.month)\n",
    "\n",
    "df[\"Mes\"] = meses\n",
    "df\n",
    "\n",
    "mes_mayor_venta = df.groupby(\"Mes\")[\"Total Venta\"].sum().sort_values(ascending=False).head(1)\n",
    "mes_mayor_venta"
   ]
  },
  {
   "cell_type": "markdown",
   "id": "44dd1d40",
   "metadata": {},
   "source": [
    "## Datos Agrupados"
   ]
  },
  {
   "cell_type": "markdown",
   "id": "561dabc1",
   "metadata": {},
   "source": [
    "**Agrupar las categorías de producto y analizar las ventas**"
   ]
  },
  {
   "cell_type": "code",
   "execution_count": 11,
   "id": "e3b70720",
   "metadata": {},
   "outputs": [
    {
     "data": {
      "text/plain": [
       "Producto\n",
       "Electrónicos    240600\n",
       "Ropa             54900\n",
       "Juguetes         32850\n",
       "Libros           20460\n",
       "Alimentos        12230\n",
       "Name: Total Venta, dtype: int64"
      ]
     },
     "execution_count": 11,
     "metadata": {},
     "output_type": "execute_result"
    }
   ],
   "source": [
    "agrupar_productos = df.groupby(\"Producto\")[\"Total Venta\"].sum().sort_values(ascending=False)\n",
    "agrupar_productos"
   ]
  },
  {
   "cell_type": "markdown",
   "id": "535ba570",
   "metadata": {},
   "source": [
    "## Guardar el DataFrame en tu equipo"
   ]
  },
  {
   "cell_type": "code",
   "execution_count": 22,
   "id": "79810f0f",
   "metadata": {},
   "outputs": [
    {
     "name": "stderr",
     "output_type": "stream",
     "text": [
      "<>:1: SyntaxWarning: invalid escape sequence '\\D'\n",
      "<>:1: SyntaxWarning: invalid escape sequence '\\D'\n",
      "C:\\Users\\Danie\\AppData\\Local\\Temp\\ipykernel_6512\\2801895756.py:1: SyntaxWarning: invalid escape sequence '\\D'\n",
      "  df.to_csv(\"C:\\Data_Science\\Analizador_de_ventas\\Venta_Tiendas.csv\")\n"
     ]
    }
   ],
   "source": [
    "df.to_csv(\"C:\\Data_Science\\Analizador_de_ventas\\Venta_Tiendas.csv\")"
   ]
  }
 ],
 "metadata": {
  "kernelspec": {
   "display_name": "Python 3",
   "language": "python",
   "name": "python3"
  },
  "language_info": {
   "codemirror_mode": {
    "name": "ipython",
    "version": 3
   },
   "file_extension": ".py",
   "mimetype": "text/x-python",
   "name": "python",
   "nbconvert_exporter": "python",
   "pygments_lexer": "ipython3",
   "version": "3.13.0"
  }
 },
 "nbformat": 4,
 "nbformat_minor": 5
}
